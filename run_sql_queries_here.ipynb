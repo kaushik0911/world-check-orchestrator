{
 "cells": [
  {
   "cell_type": "code",
   "execution_count": 3,
   "metadata": {},
   "outputs": [],
   "source": [
    "import duckdb\n",
    "import pandas as pd"
   ]
  },
  {
   "cell_type": "code",
   "execution_count": 5,
   "metadata": {},
   "outputs": [
    {
     "data": {
      "text/plain": [
       "┌────────────────────────────────┐\n",
       "│              name              │\n",
       "│            varchar             │\n",
       "├────────────────────────────────┤\n",
       "│ bronze_parking_violation_codes │\n",
       "│ bronze_parking_violations      │\n",
       "│ first_model                    │\n",
       "│ gold_ticket_metrics            │\n",
       "│ gold_vehicles_metrics          │\n",
       "│ parking_violation_codes        │\n",
       "│ parking_violations_2023        │\n",
       "│ ref_model                      │\n",
       "│ silver_parking_violation_codes │\n",
       "│ silver_parking_violations      │\n",
       "│ silver_violation_tickets       │\n",
       "│ silver_violation_vehicles      │\n",
       "├────────────────────────────────┤\n",
       "│            12 rows             │\n",
       "└────────────────────────────────┘"
      ]
     },
     "metadata": {},
     "output_type": "display_data"
    }
   ],
   "source": [
    "sql_query = '''\n",
    "SHOW tables\n",
    "'''\n",
    "\n",
    "with duckdb.connect('data/nyc_parking_violations.db') as con:\n",
    "    display(con.sql(sql_query))"
   ]
  },
  {
   "cell_type": "code",
   "execution_count": 6,
   "metadata": {},
   "outputs": [],
   "source": [
    "from clickhouse_driver import Client"
   ]
  },
  {
   "cell_type": "code",
   "execution_count": 7,
   "metadata": {},
   "outputs": [],
   "source": [
    "client = Client(host='localhost', port=9000, user='default', password='')"
   ]
  },
  {
   "cell_type": "code",
   "execution_count": null,
   "metadata": {},
   "outputs": [],
   "source": [
    "sql_query_import_1 = '''\n",
    "CREATE OR REPLACE TABLE parking_violation_codes AS\n",
    "SELECT *\n",
    "FROM read_csv_auto(\n",
    "  'data/dof_parking_violation_codes.csv',\n",
    "  normalize_names=True\n",
    "  )\n",
    "'''\n",
    "\n",
    "sql_query_import_2 = '''\n",
    "CREATE OR REPLACE TABLE parking_violations_2023 AS\n",
    "SELECT *\n",
    "FROM read_csv_auto(\n",
    "  'data/parking_violations_issued_fiscal_year_2023_sample.csv',\n",
    "  normalize_names=True\n",
    "  )\n",
    "'''\n",
    "\n",
    "client.execute(sql_query_import_1)\n",
    "client.execute(sql_query_import_2)"
   ]
  }
 ],
 "metadata": {
  "kernelspec": {
   "display_name": "Python 3 (ipykernel)",
   "language": "python",
   "name": "python3"
  },
  "language_info": {
   "codemirror_mode": {
    "name": "ipython",
    "version": 3
   },
   "file_extension": ".py",
   "mimetype": "text/x-python",
   "name": "python",
   "nbconvert_exporter": "python",
   "pygments_lexer": "ipython3",
   "version": "3.10.14"
  },
  "vscode": {
   "interpreter": {
    "hash": "31f2aee4e71d21fbe5cf8b01ff0e069b9275f58929596ceb00d14d90e3e16cd6"
   }
  }
 },
 "nbformat": 4,
 "nbformat_minor": 2
}
